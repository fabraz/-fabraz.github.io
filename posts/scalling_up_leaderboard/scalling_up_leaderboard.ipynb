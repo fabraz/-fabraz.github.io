{
 "cells": [
  {
   "cell_type": "markdown",
   "metadata": {},
   "source": [
    "# Scalling up Leaderboard in Kaggle Competition"
   ]
  },
  {
   "cell_type": "markdown",
   "metadata": {},
   "source": [
    "The competition [multi-label-classification-competition-2023](https://www.kaggle.com/competitions/multi-label-classification-competition-2023) challenges participants to develop an image classifier capable of predicting labels for image data samples. Optionally, the classifier may also consider captions as part of the input.\n",
    "\n",
    "This notebook aims to outline the steps I have taken to enhance the performance of the model. It's important to note that the experiments mentioned in this summary represent a compilation of all the submissions I have tried, encompassing the most significant changes made throughout the process.\n",
    "\n",
    "|Step|Description|Score Public|\n",
    "|:--|:--|:--|\n",
    "|1|Initial Submission|0.03741|\n",
    "|2|RESNET18 Model|0.80102|\n",
    "|3|VIT Model|0.85173|\n",
    "|4|SWIN Model|0.88472|\n",
    "|5|BERT cased Model | 0.85118|\n",
    "|6|Multimodal Deberta with VIT| 0.64622|\n",
    "|7|Ensamble SWIN and BERT|0.88682|\n",
    "|8|Ensamble Kfold SWIN and DebertaV3|0.90265|"
   ]
  },
  {
   "cell_type": "markdown",
   "metadata": {},
   "source": [
    "# Step 1 - Initial Submission"
   ]
  },
  {
   "cell_type": "markdown",
   "metadata": {},
   "source": [
    "The initial goal of the submission was to accurately generate the submission file. However, the achieved score remained at a low value of 0.03741. You can access the notebook that accomplishes this objective through the following links:\n",
    "\n",
    "* [Initial Submission](https://www.kaggle.com/fabraz/comp5329-initial-submission)"
   ]
  },
  {
   "cell_type": "markdown",
   "metadata": {},
   "source": [
    "# Step 2 - Basic Vision Multilabel Model"
   ]
  },
  {
   "cell_type": "markdown",
   "metadata": {},
   "source": [
    "In this step, I attempted to build a simple RESNET18 vision multimodel using fastai. Using this approach, I achieved a score of 0.80102. You can view the details in the following notebook.\n",
    "\n",
    "* [Basic Vision Multilabel Model](https://www.kaggle.com/fabraz/basic-vision-multilabel-model)"
   ]
  },
  {
   "cell_type": "markdown",
   "metadata": {},
   "source": [
    "# Step 3 - Visual Transformer Multilabel Model"
   ]
  },
  {
   "cell_type": "markdown",
   "metadata": {},
   "source": [
    "After starting with a baseline RESNET18 model, I experimented with a more advanced model that utilizes the transformer approach. In this case, I used the vit_small_r26_s32_224 model from the timm library. This enhancement contributed 5 additional points to the score, resulting in an achievement of 0.85173. For more details, please refer to the following notebook.\n",
    "\n",
    "* [Visual Transformer Multilabel Model](https://www.kaggle.com/fabraz/vit-multilabel-model)"
   ]
  },
  {
   "cell_type": "markdown",
   "metadata": {},
   "source": [
    "# Step 4 - Swin Base Multilabel Model"
   ]
  },
  {
   "cell_type": "markdown",
   "metadata": {},
   "source": [
    "The report, created by @jhoward ([available here](https://www.kaggle.com/code/jhoward/the-best-vision-models-for-fine-tuning)), provides insightful perspectives on vision models. Alongside RESNET and VIT, it emphasizes the superior performance of SWIN models. Motivated by this information, I embarked on an experiment with the swin_base_patch4_window7_224_in22k model. To ensure smooth execution, I needed to adjust the batch size from 128 to 32, as a larger batch size would lead to memory errors on the GPU. This adjustment led to a significant improvement, raising the score to 0.88472, an increase of over 3 points. Please refer to the following notebook, for details:\n",
    "\n",
    "* [SWIN Multilabel Model](https://www.kaggle.com/code/fabraz/swin-multilabel-model)\n"
   ]
  },
  {
   "cell_type": "markdown",
   "metadata": {},
   "source": [
    "# Step 5 - BERT Multilabel Model"
   ]
  },
  {
   "cell_type": "markdown",
   "metadata": {},
   "source": [
    "Since the performance of vision models has reached a plateau in the LB (Leaderboard), I have decided to invest in NLP models that take the image captions as input. The initial model, which utilizes BERT cased, achieved a score of 0.85118 in the LB. For more details, please refer to the following notebook. It's worth noting that this score is comparable to the performance of the VIT model.\n",
    "\n",
    "* [BERT Multilabel Model](https://www.kaggle.com/fabraz/bert-multilabel-model)"
   ]
  },
  {
   "cell_type": "markdown",
   "metadata": {},
   "source": [
    "# Step 6 - Multimodal Classifier\n"
   ]
  },
  {
   "cell_type": "markdown",
   "metadata": {},
   "source": [
    "After extensively exploring high-performing vision and text models, I came to the realization that leveraging the strengths of both through a multimodal approach would yield promising results. Instead of utilizing BERT cased, I opted to fine-tune the microsoft/deberta-v3-small model. The Jupyter notebook linked below provides a detailed account of the process. However, it is worth noting that the performance of this model did not meet expectations, resulting in a score of 0.64622. I firmly believe that there is ample room for improvement, and I encourage you to share any advancements you may achieve in enhancing its performance.\n",
    "\n",
    "* [Multimodal VIT and Debertav3](https://www.kaggle.com/code/fabraz/image-and-text-multimodal)"
   ]
  },
  {
   "cell_type": "markdown",
   "metadata": {},
   "source": [
    "# Step 7 - Multimodal Ensamble Classifier"
   ]
  },
  {
   "cell_type": "markdown",
   "metadata": {},
   "source": [
    "Recognizing the potential for improved performance by combining text and image modalities, I embarked on an exploration of ensemble techniques. By leveraging the predictions of both text and image models and averaging their probabilities, as demonstrated in the code above, I achieved a notable score of 0.88682. This approach showcases the efficacy of leveraging multiple modalities to enhance overall performance."
   ]
  },
  {
   "cell_type": "code",
   "execution_count": null,
   "metadata": {},
   "outputs": [],
   "source": [
    "import pandas as pd"
   ]
  },
  {
   "cell_type": "code",
   "execution_count": null,
   "metadata": {},
   "outputs": [],
   "source": [
    "PATH = '/kaggle/input/multilabel-preds'"
   ]
  },
  {
   "cell_type": "code",
   "execution_count": null,
   "metadata": {},
   "outputs": [
    {
     "name": "stdout",
     "output_type": "stream",
     "text": [
      "preds_bertcased.csv  preds_swin.csv\n"
     ]
    }
   ],
   "source": [
    "!ls {PATH}"
   ]
  },
  {
   "cell_type": "code",
   "execution_count": null,
   "metadata": {},
   "outputs": [
    {
     "data": {
      "text/html": [
       "<div>\n",
       "<style scoped>\n",
       "    .dataframe tbody tr th:only-of-type {\n",
       "        vertical-align: middle;\n",
       "    }\n",
       "\n",
       "    .dataframe tbody tr th {\n",
       "        vertical-align: top;\n",
       "    }\n",
       "\n",
       "    .dataframe thead th {\n",
       "        text-align: right;\n",
       "    }\n",
       "</style>\n",
       "<table border=\"1\" class=\"dataframe\">\n",
       "  <thead>\n",
       "    <tr style=\"text-align: right;\">\n",
       "      <th></th>\n",
       "      <th>ImageID</th>\n",
       "      <th>1</th>\n",
       "      <th>10</th>\n",
       "      <th>11</th>\n",
       "      <th>13</th>\n",
       "      <th>14</th>\n",
       "      <th>15</th>\n",
       "      <th>16</th>\n",
       "      <th>17</th>\n",
       "      <th>18</th>\n",
       "      <th>19</th>\n",
       "      <th>2</th>\n",
       "      <th>3</th>\n",
       "      <th>4</th>\n",
       "      <th>5</th>\n",
       "      <th>6</th>\n",
       "      <th>7</th>\n",
       "      <th>8</th>\n",
       "      <th>9</th>\n",
       "    </tr>\n",
       "  </thead>\n",
       "  <tbody>\n",
       "    <tr>\n",
       "      <th>0</th>\n",
       "      <td>30000.jpg</td>\n",
       "      <td>0.998301</td>\n",
       "      <td>0.000451</td>\n",
       "      <td>0.000210</td>\n",
       "      <td>0.000346</td>\n",
       "      <td>0.000083</td>\n",
       "      <td>0.003643</td>\n",
       "      <td>0.001506</td>\n",
       "      <td>0.000638</td>\n",
       "      <td>0.002135</td>\n",
       "      <td>0.000389</td>\n",
       "      <td>0.000791</td>\n",
       "      <td>0.002140</td>\n",
       "      <td>0.000393</td>\n",
       "      <td>0.000249</td>\n",
       "      <td>0.000438</td>\n",
       "      <td>0.000617</td>\n",
       "      <td>0.001266</td>\n",
       "      <td>0.001365</td>\n",
       "    </tr>\n",
       "    <tr>\n",
       "      <th>1</th>\n",
       "      <td>30001.jpg</td>\n",
       "      <td>0.998968</td>\n",
       "      <td>0.001570</td>\n",
       "      <td>0.001198</td>\n",
       "      <td>0.001324</td>\n",
       "      <td>0.000692</td>\n",
       "      <td>0.164543</td>\n",
       "      <td>0.002550</td>\n",
       "      <td>0.000277</td>\n",
       "      <td>0.002828</td>\n",
       "      <td>0.000271</td>\n",
       "      <td>0.015516</td>\n",
       "      <td>0.132975</td>\n",
       "      <td>0.001608</td>\n",
       "      <td>0.000189</td>\n",
       "      <td>0.001716</td>\n",
       "      <td>0.000302</td>\n",
       "      <td>0.014787</td>\n",
       "      <td>0.002360</td>\n",
       "    </tr>\n",
       "    <tr>\n",
       "      <th>2</th>\n",
       "      <td>30002.jpg</td>\n",
       "      <td>0.995096</td>\n",
       "      <td>0.004213</td>\n",
       "      <td>0.000795</td>\n",
       "      <td>0.001416</td>\n",
       "      <td>0.000388</td>\n",
       "      <td>0.002184</td>\n",
       "      <td>0.004425</td>\n",
       "      <td>0.122538</td>\n",
       "      <td>0.020935</td>\n",
       "      <td>0.001455</td>\n",
       "      <td>0.002439</td>\n",
       "      <td>0.002995</td>\n",
       "      <td>0.002450</td>\n",
       "      <td>0.000806</td>\n",
       "      <td>0.001965</td>\n",
       "      <td>0.002318</td>\n",
       "      <td>0.003221</td>\n",
       "      <td>0.002456</td>\n",
       "    </tr>\n",
       "  </tbody>\n",
       "</table>\n",
       "</div>"
      ],
      "text/plain": [
       "     ImageID         1        10        11        13        14        15  \\\n",
       "0  30000.jpg  0.998301  0.000451  0.000210  0.000346  0.000083  0.003643   \n",
       "1  30001.jpg  0.998968  0.001570  0.001198  0.001324  0.000692  0.164543   \n",
       "2  30002.jpg  0.995096  0.004213  0.000795  0.001416  0.000388  0.002184   \n",
       "\n",
       "         16        17        18        19         2         3         4  \\\n",
       "0  0.001506  0.000638  0.002135  0.000389  0.000791  0.002140  0.000393   \n",
       "1  0.002550  0.000277  0.002828  0.000271  0.015516  0.132975  0.001608   \n",
       "2  0.004425  0.122538  0.020935  0.001455  0.002439  0.002995  0.002450   \n",
       "\n",
       "          5         6         7         8         9  \n",
       "0  0.000249  0.000438  0.000617  0.001266  0.001365  \n",
       "1  0.000189  0.001716  0.000302  0.014787  0.002360  \n",
       "2  0.000806  0.001965  0.002318  0.003221  0.002456  "
      ]
     },
     "metadata": {},
     "output_type": "display_data"
    },
    {
     "data": {
      "text/html": [
       "<div>\n",
       "<style scoped>\n",
       "    .dataframe tbody tr th:only-of-type {\n",
       "        vertical-align: middle;\n",
       "    }\n",
       "\n",
       "    .dataframe tbody tr th {\n",
       "        vertical-align: top;\n",
       "    }\n",
       "\n",
       "    .dataframe thead th {\n",
       "        text-align: right;\n",
       "    }\n",
       "</style>\n",
       "<table border=\"1\" class=\"dataframe\">\n",
       "  <thead>\n",
       "    <tr style=\"text-align: right;\">\n",
       "      <th></th>\n",
       "      <th>ImageID</th>\n",
       "      <th>1</th>\n",
       "      <th>10</th>\n",
       "      <th>11</th>\n",
       "      <th>13</th>\n",
       "      <th>14</th>\n",
       "      <th>15</th>\n",
       "      <th>16</th>\n",
       "      <th>17</th>\n",
       "      <th>18</th>\n",
       "      <th>19</th>\n",
       "      <th>2</th>\n",
       "      <th>3</th>\n",
       "      <th>4</th>\n",
       "      <th>5</th>\n",
       "      <th>6</th>\n",
       "      <th>7</th>\n",
       "      <th>8</th>\n",
       "      <th>9</th>\n",
       "    </tr>\n",
       "  </thead>\n",
       "  <tbody>\n",
       "    <tr>\n",
       "      <th>0</th>\n",
       "      <td>30000.jpg</td>\n",
       "      <td>0.999971</td>\n",
       "      <td>0.000002</td>\n",
       "      <td>8.951434e-07</td>\n",
       "      <td>0.000007</td>\n",
       "      <td>4.309512e-08</td>\n",
       "      <td>0.001723</td>\n",
       "      <td>0.000429</td>\n",
       "      <td>0.000111</td>\n",
       "      <td>0.000993</td>\n",
       "      <td>0.000006</td>\n",
       "      <td>0.000253</td>\n",
       "      <td>0.001222</td>\n",
       "      <td>7.742877e-07</td>\n",
       "      <td>2.734892e-07</td>\n",
       "      <td>0.000014</td>\n",
       "      <td>6.954837e-07</td>\n",
       "      <td>0.000204</td>\n",
       "      <td>0.000002</td>\n",
       "    </tr>\n",
       "    <tr>\n",
       "      <th>1</th>\n",
       "      <td>30001.jpg</td>\n",
       "      <td>0.998041</td>\n",
       "      <td>0.005104</td>\n",
       "      <td>2.146458e-03</td>\n",
       "      <td>0.001849</td>\n",
       "      <td>3.282930e-04</td>\n",
       "      <td>0.070261</td>\n",
       "      <td>0.002508</td>\n",
       "      <td>0.000139</td>\n",
       "      <td>0.002634</td>\n",
       "      <td>0.000187</td>\n",
       "      <td>0.007488</td>\n",
       "      <td>0.718282</td>\n",
       "      <td>9.322132e-04</td>\n",
       "      <td>1.164360e-03</td>\n",
       "      <td>0.130176</td>\n",
       "      <td>3.507837e-05</td>\n",
       "      <td>0.354144</td>\n",
       "      <td>0.001698</td>\n",
       "    </tr>\n",
       "    <tr>\n",
       "      <th>2</th>\n",
       "      <td>30002.jpg</td>\n",
       "      <td>0.984484</td>\n",
       "      <td>0.005114</td>\n",
       "      <td>1.032739e-03</td>\n",
       "      <td>0.001152</td>\n",
       "      <td>4.530661e-05</td>\n",
       "      <td>0.051483</td>\n",
       "      <td>0.020992</td>\n",
       "      <td>0.006257</td>\n",
       "      <td>0.031368</td>\n",
       "      <td>0.000459</td>\n",
       "      <td>0.003815</td>\n",
       "      <td>0.018324</td>\n",
       "      <td>4.192708e-04</td>\n",
       "      <td>6.712324e-03</td>\n",
       "      <td>0.000940</td>\n",
       "      <td>7.478876e-04</td>\n",
       "      <td>0.006368</td>\n",
       "      <td>0.001133</td>\n",
       "    </tr>\n",
       "  </tbody>\n",
       "</table>\n",
       "</div>"
      ],
      "text/plain": [
       "     ImageID         1        10            11        13            14  \\\n",
       "0  30000.jpg  0.999971  0.000002  8.951434e-07  0.000007  4.309512e-08   \n",
       "1  30001.jpg  0.998041  0.005104  2.146458e-03  0.001849  3.282930e-04   \n",
       "2  30002.jpg  0.984484  0.005114  1.032739e-03  0.001152  4.530661e-05   \n",
       "\n",
       "         15        16        17        18        19         2         3  \\\n",
       "0  0.001723  0.000429  0.000111  0.000993  0.000006  0.000253  0.001222   \n",
       "1  0.070261  0.002508  0.000139  0.002634  0.000187  0.007488  0.718282   \n",
       "2  0.051483  0.020992  0.006257  0.031368  0.000459  0.003815  0.018324   \n",
       "\n",
       "              4             5         6             7         8         9  \n",
       "0  7.742877e-07  2.734892e-07  0.000014  6.954837e-07  0.000204  0.000002  \n",
       "1  9.322132e-04  1.164360e-03  0.130176  3.507837e-05  0.354144  0.001698  \n",
       "2  4.192708e-04  6.712324e-03  0.000940  7.478876e-04  0.006368  0.001133  "
      ]
     },
     "metadata": {},
     "output_type": "display_data"
    }
   ],
   "source": [
    "preds_txts = pd.read_csv(f'{PATH}/preds_bertcased.csv').iloc[:,1:]\n",
    "display(preds_txts.head(3))\n",
    "preds_imgs = pd.read_csv(f'{PATH}/preds_swin.csv').iloc[:,1:]\n",
    "display(preds_imgs.head(3))"
   ]
  },
  {
   "cell_type": "code",
   "execution_count": null,
   "metadata": {},
   "outputs": [],
   "source": [
    "merged_df = pd.merge(preds_txts, preds_imgs, on='ImageID')\n",
    "\n",
    "# Get the column names to be averaged\n",
    "columns_to_average = ['1', '10', '11', '13', '14', '15', '16', '17', '18', '19', '2', '3', '4', '5', '6', '7', '8', '9']\n",
    "\n",
    "# Create a new dataset with ImageID and averaged columns\n",
    "averaged_df = pd.DataFrame({'ImageID': merged_df['ImageID']})\n",
    "for column in columns_to_average:\n",
    "    column_x = f\"{column}_x\"\n",
    "    column_y = f\"{column}_y\"\n",
    "    averaged_df[column] = (merged_df[column_x] + merged_df[column_y]) / 2"
   ]
  },
  {
   "cell_type": "code",
   "execution_count": null,
   "metadata": {},
   "outputs": [
    {
     "data": {
      "text/html": [
       "<div>\n",
       "<style scoped>\n",
       "    .dataframe tbody tr th:only-of-type {\n",
       "        vertical-align: middle;\n",
       "    }\n",
       "\n",
       "    .dataframe tbody tr th {\n",
       "        vertical-align: top;\n",
       "    }\n",
       "\n",
       "    .dataframe thead th {\n",
       "        text-align: right;\n",
       "    }\n",
       "</style>\n",
       "<table border=\"1\" class=\"dataframe\">\n",
       "  <thead>\n",
       "    <tr style=\"text-align: right;\">\n",
       "      <th></th>\n",
       "      <th>ImageID</th>\n",
       "      <th>1</th>\n",
       "      <th>10</th>\n",
       "      <th>11</th>\n",
       "      <th>13</th>\n",
       "      <th>14</th>\n",
       "      <th>15</th>\n",
       "      <th>16</th>\n",
       "      <th>17</th>\n",
       "      <th>18</th>\n",
       "      <th>19</th>\n",
       "      <th>2</th>\n",
       "      <th>3</th>\n",
       "      <th>4</th>\n",
       "      <th>5</th>\n",
       "      <th>6</th>\n",
       "      <th>7</th>\n",
       "      <th>8</th>\n",
       "      <th>9</th>\n",
       "    </tr>\n",
       "  </thead>\n",
       "  <tbody>\n",
       "    <tr>\n",
       "      <th>0</th>\n",
       "      <td>30000.jpg</td>\n",
       "      <td>0.999136</td>\n",
       "      <td>0.000226</td>\n",
       "      <td>0.000106</td>\n",
       "      <td>0.000177</td>\n",
       "      <td>0.000042</td>\n",
       "      <td>0.002683</td>\n",
       "      <td>0.000967</td>\n",
       "      <td>0.000374</td>\n",
       "      <td>0.001564</td>\n",
       "      <td>0.000198</td>\n",
       "      <td>0.000522</td>\n",
       "      <td>0.001681</td>\n",
       "      <td>0.000197</td>\n",
       "      <td>0.000125</td>\n",
       "      <td>0.000226</td>\n",
       "      <td>0.000309</td>\n",
       "      <td>0.000735</td>\n",
       "      <td>0.000684</td>\n",
       "    </tr>\n",
       "    <tr>\n",
       "      <th>1</th>\n",
       "      <td>30001.jpg</td>\n",
       "      <td>0.998504</td>\n",
       "      <td>0.003337</td>\n",
       "      <td>0.001672</td>\n",
       "      <td>0.001587</td>\n",
       "      <td>0.000510</td>\n",
       "      <td>0.117402</td>\n",
       "      <td>0.002529</td>\n",
       "      <td>0.000208</td>\n",
       "      <td>0.002731</td>\n",
       "      <td>0.000229</td>\n",
       "      <td>0.011502</td>\n",
       "      <td>0.425629</td>\n",
       "      <td>0.001270</td>\n",
       "      <td>0.000676</td>\n",
       "      <td>0.065946</td>\n",
       "      <td>0.000169</td>\n",
       "      <td>0.184465</td>\n",
       "      <td>0.002029</td>\n",
       "    </tr>\n",
       "    <tr>\n",
       "      <th>2</th>\n",
       "      <td>30002.jpg</td>\n",
       "      <td>0.989790</td>\n",
       "      <td>0.004664</td>\n",
       "      <td>0.000914</td>\n",
       "      <td>0.001284</td>\n",
       "      <td>0.000216</td>\n",
       "      <td>0.026834</td>\n",
       "      <td>0.012708</td>\n",
       "      <td>0.064397</td>\n",
       "      <td>0.026151</td>\n",
       "      <td>0.000957</td>\n",
       "      <td>0.003127</td>\n",
       "      <td>0.010660</td>\n",
       "      <td>0.001435</td>\n",
       "      <td>0.003759</td>\n",
       "      <td>0.001453</td>\n",
       "      <td>0.001533</td>\n",
       "      <td>0.004794</td>\n",
       "      <td>0.001795</td>\n",
       "    </tr>\n",
       "  </tbody>\n",
       "</table>\n",
       "</div>"
      ],
      "text/plain": [
       "     ImageID         1        10        11        13        14        15  \\\n",
       "0  30000.jpg  0.999136  0.000226  0.000106  0.000177  0.000042  0.002683   \n",
       "1  30001.jpg  0.998504  0.003337  0.001672  0.001587  0.000510  0.117402   \n",
       "2  30002.jpg  0.989790  0.004664  0.000914  0.001284  0.000216  0.026834   \n",
       "\n",
       "         16        17        18        19         2         3         4  \\\n",
       "0  0.000967  0.000374  0.001564  0.000198  0.000522  0.001681  0.000197   \n",
       "1  0.002529  0.000208  0.002731  0.000229  0.011502  0.425629  0.001270   \n",
       "2  0.012708  0.064397  0.026151  0.000957  0.003127  0.010660  0.001435   \n",
       "\n",
       "          5         6         7         8         9  \n",
       "0  0.000125  0.000226  0.000309  0.000735  0.000684  \n",
       "1  0.000676  0.065946  0.000169  0.184465  0.002029  \n",
       "2  0.003759  0.001453  0.001533  0.004794  0.001795  "
      ]
     },
     "execution_count": null,
     "metadata": {},
     "output_type": "execute_result"
    }
   ],
   "source": [
    "averaged_df.head(3)"
   ]
  },
  {
   "cell_type": "code",
   "execution_count": null,
   "metadata": {},
   "outputs": [],
   "source": [
    "def create_labels_df(df, threshold=0.5):\n",
    "    df = df.copy()\n",
    "    labels = []\n",
    "    for i in range(len(df)):\n",
    "        label_list = [col for col in df.columns[1:] if df.iloc[i][col] > threshold]\n",
    "        labels.append(\" \".join(label_list))\n",
    "    df[\"Labels\"] = labels\n",
    "    return df[[\"ImageID\", \"Labels\"]]"
   ]
  },
  {
   "cell_type": "code",
   "execution_count": null,
   "metadata": {},
   "outputs": [],
   "source": [
    "submission_df = create_labels_df(averaged_df)"
   ]
  },
  {
   "cell_type": "code",
   "execution_count": null,
   "metadata": {},
   "outputs": [
    {
     "data": {
      "text/html": [
       "<div>\n",
       "<style scoped>\n",
       "    .dataframe tbody tr th:only-of-type {\n",
       "        vertical-align: middle;\n",
       "    }\n",
       "\n",
       "    .dataframe tbody tr th {\n",
       "        vertical-align: top;\n",
       "    }\n",
       "\n",
       "    .dataframe thead th {\n",
       "        text-align: right;\n",
       "    }\n",
       "</style>\n",
       "<table border=\"1\" class=\"dataframe\">\n",
       "  <thead>\n",
       "    <tr style=\"text-align: right;\">\n",
       "      <th></th>\n",
       "      <th>ImageID</th>\n",
       "      <th>Labels</th>\n",
       "    </tr>\n",
       "  </thead>\n",
       "  <tbody>\n",
       "    <tr>\n",
       "      <th>9994</th>\n",
       "      <td>39994.jpg</td>\n",
       "      <td>1</td>\n",
       "    </tr>\n",
       "    <tr>\n",
       "      <th>9995</th>\n",
       "      <td>39995.jpg</td>\n",
       "      <td>1</td>\n",
       "    </tr>\n",
       "    <tr>\n",
       "      <th>9996</th>\n",
       "      <td>39996.jpg</td>\n",
       "      <td>3 4</td>\n",
       "    </tr>\n",
       "    <tr>\n",
       "      <th>9997</th>\n",
       "      <td>39997.jpg</td>\n",
       "      <td>1</td>\n",
       "    </tr>\n",
       "    <tr>\n",
       "      <th>9998</th>\n",
       "      <td>39998.jpg</td>\n",
       "      <td>1</td>\n",
       "    </tr>\n",
       "    <tr>\n",
       "      <th>9999</th>\n",
       "      <td>39999.jpg</td>\n",
       "      <td>1</td>\n",
       "    </tr>\n",
       "  </tbody>\n",
       "</table>\n",
       "</div>"
      ],
      "text/plain": [
       "        ImageID Labels\n",
       "9994  39994.jpg      1\n",
       "9995  39995.jpg      1\n",
       "9996  39996.jpg    3 4\n",
       "9997  39997.jpg      1\n",
       "9998  39998.jpg      1\n",
       "9999  39999.jpg      1"
      ]
     },
     "execution_count": null,
     "metadata": {},
     "output_type": "execute_result"
    }
   ],
   "source": [
    "submission_df.tail(6)"
   ]
  },
  {
   "cell_type": "code",
   "execution_count": null,
   "metadata": {},
   "outputs": [],
   "source": [
    "submission_df.to_csv('submission.csv', index=False)"
   ]
  },
  {
   "cell_type": "markdown",
   "metadata": {},
   "source": [
    "# Step 8 - Kfold Image and Ensamble with Text Deberta-v3"
   ]
  },
  {
   "cell_type": "markdown",
   "metadata": {},
   "source": [
    "In the final stage of my approach, I employed the entire dataset for training by utilizing k-fold cross-validation for the image model. By combining the predictions of this model with those of the text model using deberta-v3, I achieved my highest score in the competition, reaching 0.90265. It is noteworthy that the transition from BERT cased to deberta-v3 was as simple as modifying the line lmodel = \"bert-base-cased\" to lmodel = \"microsoft/deberta-v3\". This adjustment played a crucial role in enhancing the model's performance.\n",
    "\n",
    "* [Kfold Image](https://www.kaggle.com/fabraz/kfold-image-model)"
   ]
  },
  {
   "cell_type": "markdown",
   "metadata": {},
   "source": [
    "# Final Remarks"
   ]
  },
  {
   "cell_type": "markdown",
   "metadata": {},
   "source": [
    "The next logical step in my approach would have been to implement specific augmentations tailored to the distribution of samples per class. Unfortunately, due to time constraints, I was unable to pursue this avenue. However, I hope that my journey and experiences serve as inspiration for you to further enhance your skills and excel in future competitions. Remember, continuous learning and improvement are key to success. Good luck on your future endeavors!"
   ]
  }
 ],
 "metadata": {
  "kernelspec": {
   "display_name": "Python 3 (ipykernel)",
   "language": "python",
   "name": "python3"
  }
 },
 "nbformat": 4,
 "nbformat_minor": 4
}
